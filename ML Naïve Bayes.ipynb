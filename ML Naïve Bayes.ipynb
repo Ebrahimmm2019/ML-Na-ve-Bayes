{
 "cells": [
  {
   "cell_type": "code",
   "execution_count": 1,
   "metadata": {
    "id": "oHn61DJPSu5q"
   },
   "outputs": [],
   "source": [
    "import numpy as np\n",
    "import matplotlib.pyplot as plt\n",
    "from sklearn.model_selection import train_test_split\n",
    "from sklearn import datasets\n",
    "from sklearn.base import BaseEstimator, ClassifierMixin, clone\n",
    "from sklearn.datasets import load_iris\n",
    "from sklearn.naive_bayes import GaussianNB\n",
    "from sklearn.utils.validation import check_X_y, check_array, check_is_fitted\n",
    "from sklearn.metrics import accuracy_score, recall_score, precision_score, plot_confusion_matrix"
   ]
  },
  {
   "cell_type": "code",
   "execution_count": 2,
   "metadata": {
    "id": "gW5ztZLRSu52"
   },
   "outputs": [],
   "source": [
    "def plotDecisionBoundary(X, y, est, title='', saveFig=False, filePath=None,\n",
    "                         encode=False, cls_names=[]):\n",
    "    plt.close('all')\n",
    "    plt.figure()\n",
    "    cmap = 'RdYlBu'\n",
    "    x_min, x_max = X[:, 0].min() - .5, X[:, 0].max() + .5\n",
    "    y_min, y_max = X[:, 1].min() - .5, X[:, 1].max() + .5\n",
    "    h = 0.02\n",
    "    xx, yy = np.meshgrid(np.arange(x_min, x_max, h),\n",
    "                         np.arange(y_min, y_max, h))\n",
    "    Z = est.predict(np.c_[xx.ravel(), yy.ravel()])\n",
    "    \n",
    "    if(encode):\n",
    "      for idx, element in enumerate(cls_names):\n",
    "        Z[np.where(element == Z)] = idx\n",
    "\n",
    "    Z = Z.reshape(xx.shape)\n",
    "    plt.contourf(xx, yy, Z, cmap=cmap, alpha=0.7)\n",
    "    plt.title(title)\n",
    "    if(saveFig):\n",
    "      plt.savefig(filePath, dpi=400)\n",
    "      \n",
    "def plot_varsmoothing_accuracy(vals, title=''):\n",
    "    test_accs = []\n",
    "    train_accs = []\n",
    "\n",
    "    for v in vals: \n",
    "        nb = GaussianNB(var_smoothing=v)\n",
    "        nb.fit(X_train, y_train)\n",
    "        train_score = nb.score(X_train, y_train) * 100\n",
    "        train_accs.append(train_score)\n",
    "        test_score = nb.score(X_test, y_test) * 100\n",
    "        test_accs.append(test_score)\n",
    "\n",
    "    plt.plot([np.log10(x) for x in VAR_SMOOTHING], train_accs, label=\"train\")\n",
    "    plt.plot([np.log10(x) for x in VAR_SMOOTHING], test_accs, label=\"test\")\n",
    "\n",
    "    plt.legend(loc=\"upper right\")\n",
    "    plt.xlabel(\"Log 10 Var Smoothing\")\n",
    "    plt.ylabel(\"Accuracy\")\n",
    "    plt.title(title)\n",
    "\n",
    "    \n",
    "def plotDataset(X, y, cls_names, cmap=\"RdYlBu\"):\n",
    "    colors = ['red', 'orange', 'blue']\n",
    "    for idx in range(len(cls_names)):\n",
    "        plt.scatter(X[y == idx, 0], X[y == idx, 1], c=colors[idx],\n",
    "                    cmap=cmap, label=cls_names[idx])\n",
    "    plt.legend()\n",
    "    \n",
    "def evaluate_classifier(classifier, X, y, avg='binary'):\n",
    "    preds = classifier.predict(X)\n",
    "    acc = accuracy_score(y, preds) * 100\n",
    "    precision = precision_score(y, preds, average=avg)\n",
    "    recall = recall_score(y, preds, average=avg)\n",
    "    \n",
    "    print(\"Accuracy: \", acc)\n",
    "    print(\"Precision: \", precision)\n",
    "    print(\"Recall: \", recall)\n",
    "    \n",
    "def load_iris(keep_cls=[0,1,2,3]):\n",
    "    iris = datasets.load_iris()\n",
    "    X, y = iris.data[:, keep_cls], iris.target\n",
    "    return X, y, iris.target_names"
   ]
  },
  {
   "cell_type": "markdown",
   "metadata": {
    "id": "fhkINaLnSu55"
   },
   "source": [
    "# 1- Load 2D Iris Dataset"
   ]
  },
  {
   "cell_type": "code",
   "execution_count": 3,
   "metadata": {
    "id": "6MGwPLoUSu58"
   },
   "outputs": [],
   "source": [
    "X, y, cls_names = load_iris([0, 1])\n",
    "X_train, X_test, y_train, y_test = train_test_split(X, y, random_state=0)"
   ]
  },
  {
   "cell_type": "code",
   "execution_count": 4,
   "metadata": {
    "colab": {
     "base_uri": "https://localhost:8080/",
     "height": 268
    },
    "id": "3oX5OIhwXxwL",
    "outputId": "558fe891-142c-4b50-b47f-09e49a1868a9"
   },
   "outputs": [
    {
     "data": {
      "image/png": "[encoded data removed]",
      "text/plain": [
       "<Figure size 432x288 with 1 Axes>"
      ]
     },
     "metadata": {
      "needs_background": "light"
     },
     "output_type": "display_data"
    }
   ],
   "source": [
    "plotDataset(X, y, cls_names)"
   ]
  },
  {
   "cell_type": "markdown",
   "metadata": {
    "id": "tSgfzphySu59"
   },
   "source": [
    "# 2- Apply Naive Bayes Classifier"
   ]
  },
  {
   "cell_type": "code",
   "execution_count": 5,
   "metadata": {
    "colab": {
     "base_uri": "https://localhost:8080/"
    },
    "id": "1yn4lPO6Su5-",
    "outputId": "06690be0-6471-412a-f1f6-16b56bd87ea1"
   },
   "outputs": [
    {
     "data": {
      "text/plain": [
       "GaussianNB()"
      ]
     },
     "execution_count": 5,
     "metadata": {},
     "output_type": "execute_result"
    }
   ],
   "source": [
    "nb = GaussianNB()\n",
    "nb.fit(X_train, y_train)"
   ]
  },
  {
   "cell_type": "code",
   "execution_count": 6,
   "metadata": {
    "colab": {
     "base_uri": "https://localhost:8080/",
     "height": 364
    },
    "id": "qDjjMKgYSu6A",
    "outputId": "e0f67b6e-bdf0-43db-e8c0-a99bcb0403c9"
   },
   "outputs": [
    {
     "name": "stdout",
     "output_type": "stream",
     "text": [
      "------------- Training Scores -------------\n",
      "\n",
      "Accuracy:  81.25\n",
      "Precision:  0.814968814968815\n",
      "Recall:  0.8133248025644009\n"
     ]
    },
    {
     "data": {
      "image/png": "[encoded data removed]",
      "text/plain": [
       "<Figure size 432x288 with 2 Axes>"
      ]
     },
     "metadata": {
      "needs_background": "light"
     },
     "output_type": "display_data"
    }
   ],
   "source": [
    "print(\"------------- Training Scores -------------\\n\")\n",
    "evaluate_classifier(nb, X_train, y_train, avg='macro')\n",
    "plot_confusion_matrix(nb, X_train, y_train, cmap='Blues');"
   ]
  },
  {
   "cell_type": "code",
   "execution_count": 7,
   "metadata": {
    "colab": {
     "base_uri": "https://localhost:8080/",
     "height": 364
    },
    "id": "P8eZCd1jSu6B",
    "outputId": "68b055d7-d959-4394-8379-50906b842b5e"
   },
   "outputs": [
    {
     "name": "stdout",
     "output_type": "stream",
     "text": [
      "------------- Testing Scores -------------\n",
      "\n",
      "Accuracy:  76.31578947368422\n",
      "Precision:  0.7352941176470589\n",
      "Recall:  0.7314814814814815\n"
     ]
    },
    {
     "data": {
      "image/png": "[encoded data removed]",
      "text/plain": [
       "<Figure size 432x288 with 2 Axes>"
      ]
     },
     "metadata": {
      "needs_background": "light"
     },
     "output_type": "display_data"
    }
   ],
   "source": [
    "print(\"------------- Testing Scores -------------\\n\")\n",
    "evaluate_classifier(nb, X_test, y_test, avg='macro')\n",
    "plot_confusion_matrix(nb, X_test, y_test, cmap='Blues');"
   ]
  },
  {
   "cell_type": "code",
   "execution_count": 8,
   "metadata": {
    "colab": {
     "base_uri": "https://localhost:8080/",
     "height": 281
    },
    "id": "JmaMkorbSu6C",
    "outputId": "4a693c8a-6dcf-4358-e614-2eb9c6878e39"
   },
   "outputs": [
    {
     "data": {
      "image/png": "[encoded data removed]",
      "text/plain": [
       "<Figure size 432x288 with 1 Axes>"
      ]
     },
     "metadata": {
      "needs_background": "light"
     },
     "output_type": "display_data"
    }
   ],
   "source": [
    "plotDecisionBoundary(X_test, y_test, nb, \"NB Decision Boundary\")\n",
    "plotDataset(X_test, y_test, cls_names)\n",
    "plt.show()"
   ]
  },
  {
   "cell_type": "markdown",
   "metadata": {
    "id": "CVM-NATDSu6E"
   },
   "source": [
    "# 4- Tune Naive Bayes"
   ]
  },
  {
   "cell_type": "code",
   "execution_count": 9,
   "metadata": {
    "colab": {
     "base_uri": "https://localhost:8080/",
     "height": 279
    },
    "id": "sA5tSG7ySu6E",
    "outputId": "e321721f-fa71-429d-d71e-4e42743a1dcf"
   },
   "outputs": [
    {
     "data": {
      "image/png": "[encoded data removed]",
      "text/plain": [
       "<Figure size 432x288 with 1 Axes>"
      ]
     },
     "metadata": {
      "needs_background": "light"
     },
     "output_type": "display_data"
    }
   ],
   "source": [
    "VAR_SMOOTHING = [1e-9, 1e-8, 1e-7, 1e-6, 1e-5, 1e-4, 1e-3, 1e-2, 1e-1]\n",
    "\n",
    "plot_varsmoothing_accuracy(VAR_SMOOTHING)"
   ]
  },
  {
   "cell_type": "markdown",
   "metadata": {
    "id": "pUbYMhc_Su6F"
   },
   "source": [
    "# 5- Develop Risk-Based Bayesian Decision Theory Classifier"
   ]
  },
  {
   "cell_type": "code",
   "execution_count": 10,
   "metadata": {
    "id": "PH2JrpokSu6F"
   },
   "outputs": [],
   "source": [
    "'''Adapted from the tutorials'''\n",
    "\n",
    "class BayesianDecisionTheoryClassifier(BaseEstimator, ClassifierMixin):\n",
    "    def __init__(self, estimator, riskMat):\n",
    "        self.estimator = estimator\n",
    "        self.riskMat = riskMat\n",
    "\n",
    "    def fit(self, X, y, cls_names):\n",
    "        # Validate inputs\n",
    "        X, y = check_X_y(X, y)\n",
    "        \n",
    "        self.classes_ = cls_names\n",
    "        self.estimator_ = clone(self.estimator).fit(X, y)\n",
    "        return self\n",
    "\n",
    "    def predict_proba(self, X):\n",
    "        # Perform input and model checks\n",
    "        check_is_fitted(self)\n",
    "        X = check_array(X)\n",
    "        \n",
    "        prob = self.estimator_.predict_proba(X)\n",
    "        probList = [(prob * self.riskMat[index]).sum(axis=1).reshape((-1, 1))\n",
    "                    for index, c in enumerate(self.classes_)]\n",
    "        prob = np.hstack(probList)\n",
    "        return prob\n",
    "\n",
    "    def predict(self, X):\n",
    "        pred = self.predict_proba(X).argmin(axis=1)\n",
    "        return self.classes_[pred]"
   ]
  },
  {
   "cell_type": "code",
   "execution_count": 11,
   "metadata": {
    "id": "oCzSbohzSu6G"
   },
   "outputs": [],
   "source": [
    "riskMat = np.array([[-10, -5, -5],\n",
    "                    [-5, -10, -5],\n",
    "                    [-5, -5, -100]])"
   ]
  },
  {
   "cell_type": "code",
   "execution_count": 12,
   "metadata": {
    "id": "rzhdqK_FSu6H"
   },
   "outputs": [],
   "source": [
    "rbdtc = BayesianDecisionTheoryClassifier(nb, riskMat)\n",
    "rbdtc.fit(X_train, y_train, cls_names)\n",
    "\n",
    "y_train_names = cls_names[y_train] \n",
    "y_test_names = cls_names[y_test]\n",
    "\n",
    "y_train_preds = rbdtc.predict(X_train)\n",
    "y_test_preds = rbdtc.predict(X_test)"
   ]
  },
  {
   "cell_type": "code",
   "execution_count": 13,
   "metadata": {
    "colab": {
     "base_uri": "https://localhost:8080/",
     "height": 364
    },
    "id": "2nioSp8nSu6H",
    "outputId": "dc51af40-5cd8-4808-cdb3-8f322fdbcfd8"
   },
   "outputs": [
    {
     "name": "stdout",
     "output_type": "stream",
     "text": [
      "------------- Training Scores -------------\n",
      "\n",
      "Accuracy:  66.07142857142857\n",
      "Precision:  0.6752136752136751\n",
      "Recall:  0.631425543190249\n"
     ]
    },
    {
     "data": {
      "image/png": "[encoded data removed]",
      "text/plain": [
       "<Figure size 432x288 with 2 Axes>"
      ]
     },
     "metadata": {
      "needs_background": "light"
     },
     "output_type": "display_data"
    }
   ],
   "source": [
    "print(\"------------- Training Scores -------------\\n\")\n",
    "evaluate_classifier(rbdtc, X_train, y_train_names, avg='macro')\n",
    "plot_confusion_matrix(rbdtc, X_train, y_train_names, cmap='Blues');\n"
   ]
  },
  {
   "cell_type": "code",
   "execution_count": 14,
   "metadata": {
    "colab": {
     "base_uri": "https://localhost:8080/",
     "height": 364
    },
    "id": "Kwhme_sLSu6I",
    "outputId": "3192f930-81f9-4282-8712-b3f0429b6ef0"
   },
   "outputs": [
    {
     "name": "stdout",
     "output_type": "stream",
     "text": [
      "------------- Testing Scores -------------\n",
      "\n",
      "Accuracy:  57.89473684210527\n",
      "Precision:  0.7866666666666666\n",
      "Recall:  0.6618589743589743\n"
     ]
    },
    {
     "data": {
      "image/png": "[encoded data removed]",
      "text/plain": [
       "<Figure size 432x288 with 2 Axes>"
      ]
     },
     "metadata": {
      "needs_background": "light"
     },
     "output_type": "display_data"
    }
   ],
   "source": [
    "print(\"------------- Testing Scores -------------\\n\")\n",
    "evaluate_classifier(rbdtc, X_test, y_test_names, avg='macro')\n",
    "plot_confusion_matrix(rbdtc, X_test, y_test_names, cmap='Blues');"
   ]
  },
  {
   "cell_type": "code",
   "execution_count": 15,
   "metadata": {
    "colab": {
     "base_uri": "https://localhost:8080/",
     "height": 265
    },
    "id": "APIdcT0cSu6I",
    "outputId": "144e90d8-4327-41b3-d379-6575902e2217"
   },
   "outputs": [
    {
     "data": {
      "image/png": "[encoded data removed]",
      "text/plain": [
       "<Figure size 432x288 with 1 Axes>"
      ]
     },
     "metadata": {
      "needs_background": "light"
     },
     "output_type": "display_data"
    }
   ],
   "source": [
    "plotDecisionBoundary(X_test, y_test, rbdtc, saveFig=True, \n",
    "                     filePath=\"RBDTC_decision.png\", encode=True,\n",
    "                     cls_names=cls_names)\n",
    "\n",
    "plotDataset(X_test, y_test, cls_names)\n",
    "plt.savefig(\"RBDTC_decision.png\", dpi=400)"
   ]
  },
  {
   "cell_type": "code",
   "execution_count": null,
   "metadata": {
    "id": "PGCLChwHwTvT"
   },
   "outputs": [],
   "source": []
  }
 ],
 "metadata": {
  "colab": {
   "collapsed_sections": [],
   "name": "ML_Task2.ipynb",
   "provenance": []
  },
  "kernelspec": {
   "display_name": "Python 3 (ipykernel)",
   "language": "python",
   "name": "python3"
  },
  "language_info": {
   "codemirror_mode": {
    "name": "ipython",
    "version": 3
   },
   "file_extension": ".py",
   "mimetype": "text/x-python",
   "name": "python",
   "nbconvert_exporter": "python",
   "pygments_lexer": "ipython3",
   "version": "3.10.1"
  }
 },
 "nbformat": 4,
 "nbformat_minor": 1
}
